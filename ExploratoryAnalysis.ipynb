{
 "cells": [
  {
   "cell_type": "markdown",
   "metadata": {},
   "source": [
    "# General Overview"
   ]
  },
  {
   "cell_type": "code",
   "execution_count": null,
   "metadata": {},
   "outputs": [],
   "source": [
    "# Basic Libraries\n",
    "import numpy as np\n",
    "import pandas as pd\n",
    "import seaborn as sb\n",
    "import matplotlib.pyplot as plt # we only need pyplot\n",
    "sb.set() # set the default Seaborn style for graphics\n",
    "\n",
    "plt.rcParams[\"axes.grid\"] = False # Removes default white gridlines from the plot:"
   ]
  },
  {
   "cell_type": "code",
   "execution_count": null,
   "metadata": {},
   "outputs": [],
   "source": [
    "import plotly.offline as py\n",
    "import plotly.figure_factory as ff\n",
    "import plotly.graph_objs as go\n",
    "from plotly.subplots import make_subplots\n",
    "from plotly import tools\n",
    "# Activate inline plotting in notebook\n",
    "py.init_notebook_mode(connected = False)"
   ]
  },
  {
   "cell_type": "code",
   "execution_count": null,
   "metadata": {},
   "outputs": [],
   "source": [
    "aviationData = pd.read_csv('AviationData.csv', encoding = 'ISO-8859-1')\n",
    "aviationData.head()"
   ]
  },
  {
   "cell_type": "code",
   "execution_count": null,
   "metadata": {},
   "outputs": [],
   "source": [
    "aviationData.info()"
   ]
  },
  {
   "cell_type": "code",
   "execution_count": null,
   "metadata": {},
   "outputs": [],
   "source": [
    "# Separating the date column into year, month, day\n",
    "aviationData['day'], aviationData['month'] ,aviationData['year'] = zip(*aviationData['Event.Date'].map(lambda x: str(x).split('/')))\n",
    "\n",
    "# Changing the fatal column to 'Non-Fatal', 'None', 'Fatal', or 'Unknown', and adding a 'Fatal_Count' in a separate column\n",
    "import re\n",
    "import numpy as np\n",
    "fatal_counts = []\n",
    "fatal_bools = []\n",
    "for i in range(len(aviationData)):\n",
    "    fatal_resp = aviationData.iloc[i]['Injury.Severity']\n",
    "    if str(fatal_resp) == 'Non-Fatal':\n",
    "        fatal_counts.append(0)\n",
    "        fatal_bools.append(\"None\")\n",
    "    elif fatal_resp is not None:\n",
    "        num = re.sub(r'\\D', \"\", str(fatal_resp))\n",
    "        if num == \"\":\n",
    "            fatal_counts.append(np.nan)\n",
    "            fatal_bools.append(\"Unknown\")\n",
    "        else:\n",
    "            fatal_counts.append(int(num))\n",
    "            fatal_bools.append(\"Fatal\")\n",
    "    else:\n",
    "        fatal_counts.append(np.nan)\n",
    "        fatal_bools.append(\"Unknown\")\n",
    "aviationData['Fatal_Counts'] = fatal_counts\n",
    "aviationData['Fatal_Bool'] = fatal_bools"
   ]
  },
  {
   "cell_type": "code",
   "execution_count": null,
   "metadata": {},
   "outputs": [],
   "source": [
    "print(aviationData.columns)"
   ]
  },
  {
   "cell_type": "markdown",
   "metadata": {},
   "source": [
    "## Univariate Plots Section"
   ]
  },
  {
   "cell_type": "markdown",
   "metadata": {},
   "source": [
    "### Accidents by Year and Month"
   ]
  },
  {
   "cell_type": "markdown",
   "metadata": {},
   "source": [
    "Plot frequency histograms for the year, month, and weekday of accidents in the dataset."
   ]
  },
  {
   "cell_type": "markdown",
   "metadata": {},
   "source": [
    "The majority of the observations in the dataframe are from after the early 1980s onwards. So let’s generate a plot from 1980 to 2019."
   ]
  },
  {
   "cell_type": "code",
   "execution_count": null,
   "metadata": {},
   "outputs": [],
   "source": [
    "aviationData[aviationData[\"Investigation.Type\"]==\"Accident\"].groupby('year').head()"
   ]
  },
  {
   "cell_type": "markdown",
   "metadata": {},
   "source": [
    "#### Year of Record Accident/Incident"
   ]
  },
  {
   "cell_type": "code",
   "execution_count": null,
   "metadata": {},
   "outputs": [],
   "source": [
    "investTypeYear = aviationData[[\"Investigation.Type\", \"year\"]]\n",
    "\n",
    "#investTypeYear = investTypeYear[investTypeYear['Investigation.Type'] == \"Accident\"]\n",
    "(investTypeYear.groupby(['year','Investigation.Type'])['Investigation.Type'].count().unstack())[['Accident','Incident']].plot(kind='bar',color=['xkcd:grey','xkcd:yellow'],figsize=(15,6))\n",
    "\n",
    "plt.xticks(rotation=60)\n",
    "plt.title('Year of Record Accident/Incident (1948-2019)')\n"
   ]
  },
  {
   "cell_type": "markdown",
   "metadata": {},
   "source": [
    "The number of accidents has overall decreased by approx. 59% between 1982 and 2017 from approx. 3400 observations to approx. 1400 observations."
   ]
  },
  {
   "cell_type": "markdown",
   "metadata": {},
   "source": [
    "#### Month of Record Accident/Incident"
   ]
  },
  {
   "cell_type": "code",
   "execution_count": null,
   "metadata": {},
   "outputs": [],
   "source": [
    "investTypeMonth = aviationData[[\"Investigation.Type\", \"month\"]]\n",
    "\n",
    "(investTypeMonth.groupby(['month','Investigation.Type'])['Investigation.Type'].count().unstack())[['Accident','Incident']].plot(kind='bar',color=['xkcd:grey','xkcd:yellow'],figsize=(15,6))\n",
    "\n",
    "plt.xticks(rotation=60)\n",
    "plt.title('Month of Record Accident/Incident (1948-2019)')"
   ]
  },
  {
   "cell_type": "markdown",
   "metadata": {},
   "source": [
    "The highest number of accidents in the dataset for a given year take place during northern hemisphere summer time (Jun-Jul-Aug). This is also likely to be correlated with the increased numbers of flights during the summer holiday period."
   ]
  },
  {
   "cell_type": "markdown",
   "metadata": {},
   "source": [
    "### Total Fatal Injuries"
   ]
  },
  {
   "cell_type": "code",
   "execution_count": null,
   "metadata": {},
   "outputs": [],
   "source": [
    "def fatalGroup(item):\n",
    "    if item == 0:\n",
    "        return '0'\n",
    "    elif item==1:\n",
    "        return '1'\n",
    "    elif item==2:\n",
    "        return '2'\n",
    "    elif item==3:\n",
    "        return '3'\n",
    "    elif item==4:\n",
    "        return '4'\n",
    "    elif item ==5:\n",
    "        return '5'\n",
    "    elif 6<item<=10:\n",
    "        return '6-10'\n",
    "    elif 10<item<=20:\n",
    "        return '10-20'\n",
    "    elif 20<item<=50:\n",
    "        return '21-50'\n",
    "    elif 50<item<=100:\n",
    "        return '51-100'\n",
    "    elif 100<item<=150:\n",
    "        return '101-150'\n",
    "    elif 150<item<=200:\n",
    "        return '151-200'\n",
    "    elif 200<item<=250:\n",
    "        return '201-250'\n",
    "    elif 250<item<300:\n",
    "        return '251-300'"
   ]
  },
  {
   "cell_type": "code",
   "execution_count": null,
   "metadata": {},
   "outputs": [],
   "source": [
    "fatal_count = pd.DataFrame(aviationData['Fatal_Counts'])\n",
    "# fill missing value\n",
    "fatal_count.fillna(value=0,inplace = True)\n",
    "fatal_count['fatal_range'] = fatal_count.apply(lambda row: fatalGroup(row['Fatal_Counts']), axis = 1)\n",
    "\n",
    "rearrange = fatal_count.groupby(['fatal_range', 'Fatal_Counts'])['Fatal_Counts'].count().unstack()\n",
    "rearrange.fillna(value = 0, inplace = True)\n",
    "rearrange.head()\n"
   ]
  },
  {
   "cell_type": "code",
   "execution_count": null,
   "metadata": {},
   "outputs": [],
   "source": []
  },
  {
   "cell_type": "code",
   "execution_count": null,
   "metadata": {},
   "outputs": [],
   "source": []
  },
  {
   "cell_type": "markdown",
   "metadata": {},
   "source": [
    "### Engine Types"
   ]
  },
  {
   "cell_type": "code",
   "execution_count": null,
   "metadata": {},
   "outputs": [],
   "source": [
    "engine_types = pd.DataFrame(aviationData['Engine.Type'])\n",
    "engine_types.fillna(value = \"Unknown\", inplace = True)\n",
    "engine_types.head(10)"
   ]
  },
  {
   "cell_type": "code",
   "execution_count": null,
   "metadata": {},
   "outputs": [],
   "source": [
    "sb.countplot(engine_types['Engine.Type'], color='blue')\n",
    "plt.xticks(rotation=60)\n",
    "plt.title('Engine Type in Observations (1948-2019)')"
   ]
  },
  {
   "cell_type": "markdown",
   "metadata": {},
   "source": [
    "According to the plots above, the bulk of engine types in the reported accidents are Reciprocating engine types."
   ]
  },
  {
   "cell_type": "markdown",
   "metadata": {},
   "source": [
    "### Weather Conditions"
   ]
  },
  {
   "cell_type": "markdown",
   "metadata": {},
   "source": [
    "VMC: conditions are such that pilots have sufficient visibility to fly the aircraft maintaining visual separation from terrain and other aircraft.\n",
    "\n",
    "IMC: conditions require pilots to fly primarily by reference to instruments.\n"
   ]
  },
  {
   "cell_type": "code",
   "execution_count": null,
   "metadata": {},
   "outputs": [],
   "source": [
    "weather_c = pd.DataFrame(aviationData['Weather.Condition'])\n",
    "weather_c.fillna(value = \"Unknown\", inplace = True)\n",
    "sb.countplot(weather_c['Weather.Condition'], color='blue')\n",
    "plt.xticks(rotation=60)\n",
    "plt.title('Weather Condition in Observations (1948-2019)')"
   ]
  },
  {
   "cell_type": "markdown",
   "metadata": {},
   "source": [
    "The bulk of accidents in the dataset take place during VMC weather conditions, which are great conditions for flying as VMC requires greater visibility and cloud clearance than IMC."
   ]
  },
  {
   "cell_type": "markdown",
   "metadata": {},
   "source": [
    "### Broad Phases of Flight"
   ]
  },
  {
   "cell_type": "code",
   "execution_count": null,
   "metadata": {},
   "outputs": [],
   "source": [
    "phase = pd.DataFrame(aviationData['Broad.Phase.of.Flight'])\n",
    "phase.fillna(value = \"Unknown\", inplace = True)\n",
    "sb.countplot(phase['Broad.Phase.of.Flight'], color='blue')\n",
    "plt.xticks(rotation=60)\n",
    "plt.title('Broad Phase of Flight in Observations (1948-2019)')"
   ]
  },
  {
   "cell_type": "markdown",
   "metadata": {},
   "source": [
    "According to the plot, the bulk of accidents took place during landing or take-off. It is well known in the industry that these are high-risk."
   ]
  },
  {
   "cell_type": "markdown",
   "metadata": {},
   "source": [
    "## Bivariate Plots Section"
   ]
  },
  {
   "cell_type": "markdown",
   "metadata": {},
   "source": [
    "The relationship between pairs of variables that could show interesting relationship"
   ]
  },
  {
   "cell_type": "markdown",
   "metadata": {},
   "source": [
    "### Engine Types and Total Fatal Injuries"
   ]
  },
  {
   "cell_type": "code",
   "execution_count": null,
   "metadata": {},
   "outputs": [],
   "source": [
    "fig = make_subplots(rows = 1, cols = 2, \n",
    "                    subplot_titles = ('Engine Types Vs. Total Fatal Injuries', \n",
    "                                      'Engine Types Vs. Total Fatal Injuries (<10)'\n",
    "                                      \n",
    "                                      ))\n",
    "\n",
    "p1 = go.Scatter(\n",
    "        x = aviationData['Engine.Type'],\n",
    "        y = aviationData['Fatal_Counts'],\n",
    "        mode = 'markers', showlegend = False)\n",
    "\n",
    "fig.append_trace(p1,1, 1)\n",
    "\n",
    "\n",
    "\n",
    "p2 = go.Scatter(\n",
    "        x = aviationData['Engine.Type'],\n",
    "        y = aviationData['Fatal_Counts'][aviationData['Fatal_Counts']<=10],\n",
    "        mode = 'markers', showlegend = False)\n",
    "\n",
    "fig.append_trace(p2, 1, 2)\n",
    "\n",
    "\n",
    "\n",
    "fig['layout'].update(height = 400, width = 800)\n",
    "py.iplot(fig)"
   ]
  },
  {
   "cell_type": "markdown",
   "metadata": {},
   "source": [
    "\n",
    "\n"
   ]
  },
  {
   "cell_type": "markdown",
   "metadata": {},
   "source": [
    "The first plot shows that the Turbo-Fan engine has more outliers with higher number of fatalities than other engines. From the 2nd plot, the bulk of the data for fatalities under 10 is with the engine type reciprocating engine type."
   ]
  },
  {
   "cell_type": "markdown",
   "metadata": {},
   "source": [
    "### Weather Conditions Vs. Total Fatal Injuries"
   ]
  },
  {
   "cell_type": "code",
   "execution_count": null,
   "metadata": {},
   "outputs": [],
   "source": [
    "c"
   ]
  },
  {
   "cell_type": "markdown",
   "metadata": {},
   "source": [
    "As previously noted ,weather conditions do not show a particularly strong relationship with total fatal injuries. The bulk of the distribution is associate with VMC weather conditions. However, that is likely to the fact that the vast majority of flights are flown in VMC conditions."
   ]
  },
  {
   "cell_type": "markdown",
   "metadata": {},
   "source": [
    "### Phase of Flight and Total Fatal Injuries"
   ]
  },
  {
   "cell_type": "code",
   "execution_count": null,
   "metadata": {},
   "outputs": [],
   "source": [
    "fig = make_subplots(rows = 1, cols = 2, \n",
    "                    subplot_titles = ('Phase of Flight Vs. Total Fatal Injuries', \n",
    "                                      'Phase of Flight Vs. Total Fatal Injuries (<10)'\n",
    "                                      \n",
    "                                      ))\n",
    "\n",
    "p1 = go.Scatter( x = aviationData['Broad.Phase.of.Flight'], \n",
    "                y = aviationData['Fatal_Counts'], mode = 'markers', showlegend = False)\n",
    "\n",
    "fig.append_trace(p1, 1, 1)\n",
    "\n",
    "\n",
    "\n",
    "p2 = go.Scatter(\n",
    "        x = aviationData['Broad.Phase.of.Flight'],\n",
    "        y = aviationData['Fatal_Counts'][aviationData['Fatal_Counts']<=10],\n",
    "        mode = 'markers', showlegend = False)\n",
    "\n",
    "fig.append_trace(p2, 1, 2)\n",
    "\n",
    "\n",
    "\n",
    "fig['layout'].update(height = 400, width = 800)\n",
    "py.iplot(fig)"
   ]
  },
  {
   "cell_type": "markdown",
   "metadata": {},
   "source": [
    "The plots show that Take-Off and Approach are associated with outliers with high number of fatalities. As previously noted, these two phases of flight are often referred to as “critical phases of flight” for that particular reason."
   ]
  },
  {
   "cell_type": "markdown",
   "metadata": {},
   "source": [
    "### Broad Phase of Flight and Weather Conditions"
   ]
  },
  {
   "cell_type": "code",
   "execution_count": null,
   "metadata": {},
   "outputs": [],
   "source": [
    "fig = make_subplots(rows = 1, cols = 1, \n",
    "                    subplot_titles = ('Broad Phase of Flight Vs. Weather Conditions'))\n",
    "\n",
    "p1 = go.Scatter( x = aviationData['Broad.Phase.of.Flight'], \n",
    "                y = aviationData['Weather.Condition'], mode = 'markers', showlegend = False)\n",
    "\n",
    "fig.append_trace(p1, 1, 1)\n",
    "\n",
    "fig['layout'].update(height = 400, width = 800)\n",
    "py.iplot(fig)"
   ]
  },
  {
   "cell_type": "markdown",
   "metadata": {},
   "source": [
    "The plots indicates that there is higher frequency of recorded observations for certain combinations of weather and phases of flight — for example, IMC flying conditions while during “cruise” or “approach” phases of flight."
   ]
  },
  {
   "cell_type": "markdown",
   "metadata": {},
   "source": [
    "### Longitude and Latitude of Recorded Accidents"
   ]
  },
  {
   "cell_type": "markdown",
   "metadata": {},
   "source": [
    "Plotting the Latitude vs Longitude of the accidents essentially gives us the map of the US. The plots also indicates that the coastal states are more heavily impacted compared to mid-western states and most of Alaska. This can be explained by the volume of flight to/from destinations those areas of the US."
   ]
  },
  {
   "cell_type": "markdown",
   "metadata": {},
   "source": [
    "## Multivariate Plots Section"
   ]
  },
  {
   "cell_type": "code",
   "execution_count": null,
   "metadata": {},
   "outputs": [],
   "source": []
  }
 ],
 "metadata": {
  "kernelspec": {
   "display_name": "Python 3",
   "language": "python",
   "name": "python3"
  },
  "language_info": {
   "codemirror_mode": {
    "name": "ipython",
    "version": 3
   },
   "file_extension": ".py",
   "mimetype": "text/x-python",
   "name": "python",
   "nbconvert_exporter": "python",
   "pygments_lexer": "ipython3",
   "version": "3.7.4"
  }
 },
 "nbformat": 4,
 "nbformat_minor": 2
}
